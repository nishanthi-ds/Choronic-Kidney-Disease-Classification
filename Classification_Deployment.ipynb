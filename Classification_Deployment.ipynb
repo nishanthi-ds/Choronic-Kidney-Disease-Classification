{
 "cells": [
  {
   "cell_type": "code",
   "execution_count": 12,
   "id": "66906d08-635e-48fa-96b1-548331b2d919",
   "metadata": {},
   "outputs": [],
   "source": [
    "import pandas as pd\n",
    "import pickle\n",
    "\n",
    "df = ['51.49230769','60','d','3','0','abnormal','abnormal','notpresent','notpresent','148.1126761','34','1.2','137.528754','4.62724359','10.8','33','8408.191126','4.705597015','no','no','no','yes','poor','no']\n",
    "df = pd.DataFrame([df], columns=['age', 'bp', 'sg', 'al', 'su', 'rbc', 'pc', 'pcc', 'ba', 'bgr', 'bu',\n",
    "       'sc', 'sod', 'pot', 'hrmo', 'pcv', 'wc', 'rc', 'htn', 'dm', 'cad',\n",
    "       'appet', 'pe', 'ane'])"
   ]
  },
  {
   "cell_type": "code",
   "execution_count": 13,
   "id": "5e1efb6c-9c53-4350-9a5e-4059e56a6a2c",
   "metadata": {},
   "outputs": [],
   "source": [
    "categorical_columns = df.select_dtypes(include=['object']).columns.to_list()\n",
    "\n",
    "# Label Encoder - sg (map each)  \n",
    "column_name = 'sg'\n",
    "mapping = {'a':0, 'b':1, 'c':2,'d':3,'e':4}\n",
    "df[column_name] = df[column_name].map(mapping)\n",
    "categorical_columns.remove(column_name)\n"
   ]
  },
  {
   "cell_type": "code",
   "execution_count": 14,
   "id": "7163bf55-9926-4043-8a1e-18c1da7ef7ed",
   "metadata": {},
   "outputs": [
    {
     "name": "stderr",
     "output_type": "stream",
     "text": [
      "C:\\Users\\ANISH\\AppData\\Local\\Temp\\ipykernel_22120\\2569007687.py:5: FutureWarning: DataFrame.applymap has been deprecated. Use DataFrame.map instead.\n",
      "  df[column_name] = df[column_name].applymap(lambda x: mapping.get(x, x))\n"
     ]
    },
    {
     "data": {
      "text/html": [
       "<div>\n",
       "<style scoped>\n",
       "    .dataframe tbody tr th:only-of-type {\n",
       "        vertical-align: middle;\n",
       "    }\n",
       "\n",
       "    .dataframe tbody tr th {\n",
       "        vertical-align: top;\n",
       "    }\n",
       "\n",
       "    .dataframe thead th {\n",
       "        text-align: right;\n",
       "    }\n",
       "</style>\n",
       "<table border=\"1\" class=\"dataframe\">\n",
       "  <thead>\n",
       "    <tr style=\"text-align: right;\">\n",
       "      <th></th>\n",
       "      <th>age</th>\n",
       "      <th>bp</th>\n",
       "      <th>al</th>\n",
       "      <th>su</th>\n",
       "      <th>rbc</th>\n",
       "      <th>pc</th>\n",
       "      <th>pcc</th>\n",
       "      <th>ba</th>\n",
       "      <th>bgr</th>\n",
       "      <th>bu</th>\n",
       "      <th>...</th>\n",
       "      <th>hrmo</th>\n",
       "      <th>pcv</th>\n",
       "      <th>wc</th>\n",
       "      <th>rc</th>\n",
       "      <th>htn</th>\n",
       "      <th>dm</th>\n",
       "      <th>cad</th>\n",
       "      <th>appet</th>\n",
       "      <th>pe</th>\n",
       "      <th>ane</th>\n",
       "    </tr>\n",
       "  </thead>\n",
       "  <tbody>\n",
       "    <tr>\n",
       "      <th>0</th>\n",
       "      <td>51.49230769</td>\n",
       "      <td>60</td>\n",
       "      <td>3</td>\n",
       "      <td>0</td>\n",
       "      <td>1</td>\n",
       "      <td>1</td>\n",
       "      <td>0</td>\n",
       "      <td>0</td>\n",
       "      <td>148.1126761</td>\n",
       "      <td>34</td>\n",
       "      <td>...</td>\n",
       "      <td>10.8</td>\n",
       "      <td>33</td>\n",
       "      <td>8408.191126</td>\n",
       "      <td>4.705597015</td>\n",
       "      <td>0</td>\n",
       "      <td>0</td>\n",
       "      <td>0</td>\n",
       "      <td>1</td>\n",
       "      <td>0</td>\n",
       "      <td>0</td>\n",
       "    </tr>\n",
       "  </tbody>\n",
       "</table>\n",
       "<p>1 rows × 23 columns</p>\n",
       "</div>"
      ],
      "text/plain": [
       "           age  bp al su  rbc  pc  pcc  ba          bgr  bu  ...  hrmo pcv  \\\n",
       "0  51.49230769  60  3  0    1   1    0   0  148.1126761  34  ...  10.8  33   \n",
       "\n",
       "            wc           rc htn dm cad  appet  pe  ane  \n",
       "0  8408.191126  4.705597015   0  0   0      1   0    0  \n",
       "\n",
       "[1 rows x 23 columns]"
      ]
     },
     "execution_count": 14,
     "metadata": {},
     "output_type": "execute_result"
    }
   ],
   "source": [
    "# Preprocess the other categorical columns data\n",
    "\n",
    "column_name = categorical_columns\n",
    "mapping = {'abnormal':1, 'no': 0, 'normal':0, 'notpresent':0, 'poor':0, 'present':1, 'yes':1}\n",
    "df[column_name] = df[column_name].applymap(lambda x: mapping.get(x, x))\n",
    "\n",
    "df[column_name].head()"
   ]
  },
  {
   "cell_type": "code",
   "execution_count": 15,
   "id": "8bb9c655-9c69-43aa-bfe8-8e66e1675e4a",
   "metadata": {},
   "outputs": [
    {
     "data": {
      "text/plain": [
       "array([1], dtype=int64)"
      ]
     },
     "execution_count": 15,
     "metadata": {},
     "output_type": "execute_result"
    }
   ],
   "source": [
    "# Deployment phase\n",
    "\n",
    "load_model = pickle.load(open('classification_best_model.sav', 'rb'))\n",
    "pred = load_model.predict(df)\n",
    "pred"
   ]
  },
  {
   "cell_type": "code",
   "execution_count": null,
   "id": "ee2c9381-fae2-48c1-bfd7-2d003cc4a150",
   "metadata": {},
   "outputs": [],
   "source": []
  }
 ],
 "metadata": {
  "kernelspec": {
   "display_name": "Python 3 (ipykernel)",
   "language": "python",
   "name": "python3"
  },
  "language_info": {
   "codemirror_mode": {
    "name": "ipython",
    "version": 3
   },
   "file_extension": ".py",
   "mimetype": "text/x-python",
   "name": "python",
   "nbconvert_exporter": "python",
   "pygments_lexer": "ipython3",
   "version": "3.12.7"
  }
 },
 "nbformat": 4,
 "nbformat_minor": 5
}
